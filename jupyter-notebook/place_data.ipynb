{
 "cells": [
  {
   "cell_type": "code",
   "execution_count": 8,
   "id": "fe50dc66-b342-4320-9d30-5b115a458e84",
   "metadata": {},
   "outputs": [],
   "source": [
    "\n"
   ]
  },
  {
   "cell_type": "code",
   "execution_count": 11,
   "id": "7dd184be-a94d-41d2-ba82-6fd032dbf90a",
   "metadata": {
    "scrolled": true
   },
   "outputs": [
    {
     "name": "stdout",
     "output_type": "stream",
     "text": [
      "         MAPX       MAPY\n",
      "0  127.053566  37.906462\n",
      "1  127.058331  37.897184\n",
      "2  127.052102  37.900478\n",
      "3  127.052304  37.903480\n",
      "4  127.602332  37.259609\n",
      "   SEARCH_COUNT  ID CITY MAJOR_CATEGORY REGION          ROAD_ADDRESS  \\\n",
      "0          8879   1  경기도             쇼핑   동두천시  경기 동두천시 동광로52번길 39-0   \n",
      "1          6100   2  경기도           문화관광   동두천시    경기 동두천시 평화로 2346-0   \n",
      "2          5797   3  경기도             쇼핑   동두천시     경기 동두천시 큰시장로 52-0   \n",
      "3          5434   4  경기도             쇼핑   동두천시  경기 동두천시 어수로83번길 20-0   \n",
      "4          9805   5  경기도          레저스포츠    여주시     경기 여주시 여주남로 343-0   \n",
      "\n",
      "  SUB_CATEGORY TOURIST_SPOT_NAME  \n",
      "0           시장              중앙시장  \n",
      "1         공연시설            CGV동두천  \n",
      "2           시장            동두천큰시장  \n",
      "3           시장              양키시장  \n",
      "4      육상레저스포츠          영재파3골프랜드  \n"
     ]
    }
   ],
   "source": [
    "# 파일 경로 및 인코딩 설정\n",
    "file_path = \"C:\\\\Temp\\\\hyanghae\\\\NOT_FAMOUS_PLACE.txt\"\n",
    "encoding = \"utf-8\"  # 파일의 인코딩에 따라 수정하세요.\n",
    "\n",
    "# 파일 읽기\n",
    "data = pd.read_csv(file_path, encoding=encoding)\n",
    "\n",
    "# \"MAPX\"와 \"MAPY\" 컬럼을 가진 데이터프레임\n",
    "location_data = data[[\"MAPX\", \"MAPY\"]]\n",
    "\n",
    "# \"MAPX\"와 \"MAPY\" 컬럼을 제외한 데이터프레임\n",
    "not_famous_without_location = data.drop(columns=[\"MAPX\", \"MAPY\"])\n",
    "\n",
    "print(location_data.head(5))\n",
    "print(not_famous_without_location.head(5))\n",
    "\n",
    "# CSV 파일로 저장\n",
    "location_data.to_csv(\"location_data.csv\", index=False)\n",
    "not_famous_without_location.to_csv(\"not_famous_without_location.csv\", index=False)"
   ]
  },
  {
   "cell_type": "code",
   "execution_count": 10,
   "id": "35f0a7c1-098e-4850-978b-0b0491156ea9",
   "metadata": {},
   "outputs": [
    {
     "data": {
      "text/plain": [
       "'C:\\\\Users\\\\voslr\\\\jupyter'"
      ]
     },
     "execution_count": 10,
     "metadata": {},
     "output_type": "execute_result"
    }
   ],
   "source": [
    "pwd"
   ]
  },
  {
   "cell_type": "code",
   "execution_count": 17,
   "id": "33a94d4f-492d-4791-b117-0913521e6710",
   "metadata": {},
   "outputs": [],
   "source": [
    "import pandas as pd\n",
    "\n",
    "# 파일 경로 설정\n",
    "file_path = \"C:/Temp/hyanghae/FAMOUS_PLACE.csv\"\n",
    "\n",
    "# CP949로 읽어서 DataFrame으로 저장\n",
    "data = pd.read_csv(file_path, encoding=\"ansi\")\n",
    "\n",
    "# UTF-8로 저장\n",
    "data.to_csv(\"C:/Temp/hyanghae/FAMOUS_PLACE_utf8.csv\", encoding=\"UTF-8\", index=False)\n"
   ]
  }
 ],
 "metadata": {
  "kernelspec": {
   "display_name": "Python 3 (ipykernel)",
   "language": "python",
   "name": "python3"
  },
  "language_info": {
   "codemirror_mode": {
    "name": "ipython",
    "version": 3
   },
   "file_extension": ".py",
   "mimetype": "text/x-python",
   "name": "python",
   "nbconvert_exporter": "python",
   "pygments_lexer": "ipython3",
   "version": "3.11.7"
  }
 },
 "nbformat": 4,
 "nbformat_minor": 5
}
